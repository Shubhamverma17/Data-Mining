{
 "cells": [
  {
   "cell_type": "code",
   "execution_count": 4,
   "metadata": {},
   "outputs": [],
   "source": [
    "import random\n",
    "import numpy as np\n",
    "import pandas as pd\n",
    "from math import sqrt\n",
    "from sklearn import preprocessing\n",
    "%matplotlib inline\n",
    "from matplotlib import pyplot as plt"
   ]
  },
  {
   "cell_type": "code",
   "execution_count": 5,
   "metadata": {},
   "outputs": [],
   "source": [
    "def Eucledian_distance(list_x,list_y):\n",
    "    Sum=0\n",
    "    for i,j in zip(list_x,list_y):\n",
    "        Sum+= abs((i-j)**2)\n",
    "    return sqrt(Sum)"
   ]
  },
  {
   "cell_type": "code",
   "execution_count": 6,
   "metadata": {},
   "outputs": [],
   "source": [
    "def Manhattan_distance(list_x,list_y):\n",
    "    Sum=0\n",
    "    for i,j in zip(list_x,list_y):\n",
    "        Sum+= abs((i-j))\n",
    "    return Sum"
   ]
  },
  {
   "cell_type": "code",
   "execution_count": 7,
   "metadata": {},
   "outputs": [],
   "source": [
    "def Cosine_distance(list_x,list_y):\n",
    "    numerator=0 \n",
    "    d1=0\n",
    "    d2=0\n",
    "    for i,j in zip(list_x,list_y):\n",
    "        numerator+= i*j\n",
    "        d1+= i*i\n",
    "        d2+= j*j\n",
    "    distance=( numerator/(sqrt(d1)*sqrt(d2)) ) \n",
    "    return distance"
   ]
  },
  {
   "cell_type": "code",
   "execution_count": 8,
   "metadata": {},
   "outputs": [],
   "source": [
    "def K_means(k,df,v):\n",
    "    cluster=[]\n",
    "    dis=[]\n",
    "    centroid=[]\n",
    "    temp_cluster=[]\n",
    "    sample=random.sample(range(1,len(df.transpose())),k)\n",
    "    for i in range(len(sample)):\n",
    "        temp_cluster.append([])\n",
    "\n",
    "    old_cluster=temp_cluster.copy()\n",
    "    for s in sample:\n",
    "        centroid.append(list(df[s]))\n",
    "        \n",
    "    inc=centroid.copy()\n",
    "\n",
    "    while(old_cluster!=cluster):\n",
    "        old_cluster= cluster.copy()\n",
    "        cluster.clear()\n",
    "        for i in range(len(sample)):\n",
    "            cluster.append([])\n",
    "            \n",
    "        for i in range(len(df.transpose())):\n",
    "            for c in centroid:\n",
    "                if v==1:                                   #v=1 =>Eucledian distance \n",
    "                    d=Eucledian_distance(list(df[i]),c)\n",
    "                if v==2:                                   #v=2 =>Manhattan_distance\n",
    "                    d=Manhattan_distance(list(df[i]),c)\n",
    "                dis.append(d)\n",
    "            cluster[dis.index(min(dis))].append(list(df[i]))\n",
    "            dis.clear()\n",
    "\n",
    "        new_centroid=[]\n",
    "        for cl in cluster:\n",
    "            temp=np.array(cl)\n",
    "            new_centroid.append(list(sum(temp)/len(temp)))\n",
    "        centroid=new_centroid.copy()\n",
    "\n",
    "    return inc,centroid,cluster"
   ]
  },
  {
   "cell_type": "code",
   "execution_count": 9,
   "metadata": {},
   "outputs": [],
   "source": [
    "def Measure(clusters):\n",
    "    precision=0\n",
    "    recall=0\n",
    "    for cluster in clusters:\n",
    "        df=pd.DataFrame(cluster)\n",
    "        counts=df[301].value_counts()                   #find labels & frequency of labels              \n",
    "        df_lab=[int(i) for i in list(counts.index)]     #val = labels\n",
    "        df_count=list(counts.values)                    #count= frequency of the labels\n",
    "        max_val=max(df_count)\n",
    "        label=df_lab[df_count.index(max_val)]\n",
    "        precision+= (max_val / len(cluster))\n",
    "        if label==1:\n",
    "            recall+= (max_val / n1)\n",
    "        elif label==2:\n",
    "            recall+= (max_val / n2)\n",
    "        elif label==3:\n",
    "            recall+= (max_val / n3)\n",
    "        else:\n",
    "            recall+= (max_val / n4)\n",
    "            \n",
    "    precision/= len(clusters)                           #avg precision\n",
    "    recall/= len(clusters)                              #avg recall\n",
    "    F_score= (2*precision*recall)/(precision + recall)\n",
    "    return precision, recall, F_score"
   ]
  },
  {
   "cell_type": "code",
   "execution_count": 12,
   "metadata": {},
   "outputs": [],
   "source": [
    "df1=pd.read_csv(\"animals\",sep=' ', header=None)\n",
    "df1[301]=1\n",
    "n1=len(df1)\n",
    "df2=pd.read_csv(\"countries\",sep=' ', header=None)\n",
    "df2[301]=2\n",
    "n2=len(df2)\n",
    "df3=pd.read_csv(\"fruits\",sep=' ', header=None)\n",
    "df3[301]=3\n",
    "n3=len(df3)\n",
    "df4=pd.read_csv(\"veggies\",sep=' ', header=None)\n",
    "df4[301]=4\n",
    "n4=len(df4)"
   ]
  },
  {
   "cell_type": "code",
   "execution_count": 13,
   "metadata": {},
   "outputs": [],
   "source": [
    "df=pd.concat([df1,df2,df3,df4], sort=True)"
   ]
  },
  {
   "cell_type": "code",
   "execution_count": 14,
   "metadata": {},
   "outputs": [
    {
     "data": {
      "text/html": [
       "<div>\n",
       "<style scoped>\n",
       "    .dataframe tbody tr th:only-of-type {\n",
       "        vertical-align: middle;\n",
       "    }\n",
       "\n",
       "    .dataframe tbody tr th {\n",
       "        vertical-align: top;\n",
       "    }\n",
       "\n",
       "    .dataframe thead th {\n",
       "        text-align: right;\n",
       "    }\n",
       "</style>\n",
       "<table border=\"1\" class=\"dataframe\">\n",
       "  <thead>\n",
       "    <tr style=\"text-align: right;\">\n",
       "      <th></th>\n",
       "      <th>0</th>\n",
       "      <th>1</th>\n",
       "      <th>2</th>\n",
       "      <th>3</th>\n",
       "      <th>4</th>\n",
       "      <th>5</th>\n",
       "      <th>6</th>\n",
       "      <th>7</th>\n",
       "      <th>8</th>\n",
       "      <th>9</th>\n",
       "      <th>...</th>\n",
       "      <th>292</th>\n",
       "      <th>293</th>\n",
       "      <th>294</th>\n",
       "      <th>295</th>\n",
       "      <th>296</th>\n",
       "      <th>297</th>\n",
       "      <th>298</th>\n",
       "      <th>299</th>\n",
       "      <th>300</th>\n",
       "      <th>301</th>\n",
       "    </tr>\n",
       "  </thead>\n",
       "  <tbody>\n",
       "    <tr>\n",
       "      <th>0</th>\n",
       "      <td>elephant</td>\n",
       "      <td>-0.015926</td>\n",
       "      <td>-0.079864</td>\n",
       "      <td>-0.33218</td>\n",
       "      <td>0.034246</td>\n",
       "      <td>0.11045</td>\n",
       "      <td>0.060519</td>\n",
       "      <td>-1.1830</td>\n",
       "      <td>-0.70995</td>\n",
       "      <td>-0.15361</td>\n",
       "      <td>...</td>\n",
       "      <td>0.46735</td>\n",
       "      <td>0.086454</td>\n",
       "      <td>0.24495</td>\n",
       "      <td>-0.621270</td>\n",
       "      <td>0.377990</td>\n",
       "      <td>0.709060</td>\n",
       "      <td>-0.023002</td>\n",
       "      <td>0.003908</td>\n",
       "      <td>-0.035713</td>\n",
       "      <td>1</td>\n",
       "    </tr>\n",
       "    <tr>\n",
       "      <th>1</th>\n",
       "      <td>leopard</td>\n",
       "      <td>0.477270</td>\n",
       "      <td>-0.915870</td>\n",
       "      <td>-0.29770</td>\n",
       "      <td>-0.224890</td>\n",
       "      <td>0.55337</td>\n",
       "      <td>0.177720</td>\n",
       "      <td>-1.5603</td>\n",
       "      <td>-0.40580</td>\n",
       "      <td>-0.37523</td>\n",
       "      <td>...</td>\n",
       "      <td>0.35108</td>\n",
       "      <td>0.312520</td>\n",
       "      <td>0.16230</td>\n",
       "      <td>0.022012</td>\n",
       "      <td>0.048974</td>\n",
       "      <td>-0.027862</td>\n",
       "      <td>-0.446990</td>\n",
       "      <td>-0.249570</td>\n",
       "      <td>0.028510</td>\n",
       "      <td>1</td>\n",
       "    </tr>\n",
       "  </tbody>\n",
       "</table>\n",
       "<p>2 rows × 302 columns</p>\n",
       "</div>"
      ],
      "text/plain": [
       "        0         1         2        3         4        5         6       7    \\\n",
       "0  elephant -0.015926 -0.079864 -0.33218  0.034246  0.11045  0.060519 -1.1830   \n",
       "1   leopard  0.477270 -0.915870 -0.29770 -0.224890  0.55337  0.177720 -1.5603   \n",
       "\n",
       "       8        9    ...      292       293      294       295       296  \\\n",
       "0 -0.70995 -0.15361  ...  0.46735  0.086454  0.24495 -0.621270  0.377990   \n",
       "1 -0.40580 -0.37523  ...  0.35108  0.312520  0.16230  0.022012  0.048974   \n",
       "\n",
       "        297       298       299       300  301  \n",
       "0  0.709060 -0.023002  0.003908 -0.035713    1  \n",
       "1 -0.027862 -0.446990 -0.249570  0.028510    1  \n",
       "\n",
       "[2 rows x 302 columns]"
      ]
     },
     "execution_count": 14,
     "metadata": {},
     "output_type": "execute_result"
    }
   ],
   "source": [
    "df.reset_index(drop=True, inplace = True)\n",
    "df.head(2)"
   ]
  },
  {
   "cell_type": "code",
   "execution_count": 15,
   "metadata": {},
   "outputs": [
    {
     "data": {
      "text/html": [
       "<div>\n",
       "<style scoped>\n",
       "    .dataframe tbody tr th:only-of-type {\n",
       "        vertical-align: middle;\n",
       "    }\n",
       "\n",
       "    .dataframe tbody tr th {\n",
       "        vertical-align: top;\n",
       "    }\n",
       "\n",
       "    .dataframe thead th {\n",
       "        text-align: right;\n",
       "    }\n",
       "</style>\n",
       "<table border=\"1\" class=\"dataframe\">\n",
       "  <thead>\n",
       "    <tr style=\"text-align: right;\">\n",
       "      <th></th>\n",
       "      <th>0</th>\n",
       "      <th>1</th>\n",
       "      <th>2</th>\n",
       "      <th>3</th>\n",
       "      <th>4</th>\n",
       "      <th>5</th>\n",
       "      <th>6</th>\n",
       "      <th>7</th>\n",
       "      <th>8</th>\n",
       "      <th>9</th>\n",
       "      <th>...</th>\n",
       "      <th>292</th>\n",
       "      <th>293</th>\n",
       "      <th>294</th>\n",
       "      <th>295</th>\n",
       "      <th>296</th>\n",
       "      <th>297</th>\n",
       "      <th>298</th>\n",
       "      <th>299</th>\n",
       "      <th>300</th>\n",
       "      <th>301</th>\n",
       "    </tr>\n",
       "  </thead>\n",
       "  <tbody>\n",
       "    <tr>\n",
       "      <th>0</th>\n",
       "      <td>102</td>\n",
       "      <td>-0.015926</td>\n",
       "      <td>-0.079864</td>\n",
       "      <td>-0.33218</td>\n",
       "      <td>0.034246</td>\n",
       "      <td>0.11045</td>\n",
       "      <td>0.060519</td>\n",
       "      <td>-1.1830</td>\n",
       "      <td>-0.70995</td>\n",
       "      <td>-0.15361</td>\n",
       "      <td>...</td>\n",
       "      <td>0.46735</td>\n",
       "      <td>0.086454</td>\n",
       "      <td>0.24495</td>\n",
       "      <td>-0.621270</td>\n",
       "      <td>0.377990</td>\n",
       "      <td>0.709060</td>\n",
       "      <td>-0.023002</td>\n",
       "      <td>0.003908</td>\n",
       "      <td>-0.035713</td>\n",
       "      <td>1</td>\n",
       "    </tr>\n",
       "    <tr>\n",
       "      <th>1</th>\n",
       "      <td>189</td>\n",
       "      <td>0.477270</td>\n",
       "      <td>-0.915870</td>\n",
       "      <td>-0.29770</td>\n",
       "      <td>-0.224890</td>\n",
       "      <td>0.55337</td>\n",
       "      <td>0.177720</td>\n",
       "      <td>-1.5603</td>\n",
       "      <td>-0.40580</td>\n",
       "      <td>-0.37523</td>\n",
       "      <td>...</td>\n",
       "      <td>0.35108</td>\n",
       "      <td>0.312520</td>\n",
       "      <td>0.16230</td>\n",
       "      <td>0.022012</td>\n",
       "      <td>0.048974</td>\n",
       "      <td>-0.027862</td>\n",
       "      <td>-0.446990</td>\n",
       "      <td>-0.249570</td>\n",
       "      <td>0.028510</td>\n",
       "      <td>1</td>\n",
       "    </tr>\n",
       "  </tbody>\n",
       "</table>\n",
       "<p>2 rows × 302 columns</p>\n",
       "</div>"
      ],
      "text/plain": [
       "   0         1         2        3         4        5         6       7    \\\n",
       "0  102 -0.015926 -0.079864 -0.33218  0.034246  0.11045  0.060519 -1.1830   \n",
       "1  189  0.477270 -0.915870 -0.29770 -0.224890  0.55337  0.177720 -1.5603   \n",
       "\n",
       "       8        9    ...      292       293      294       295       296  \\\n",
       "0 -0.70995 -0.15361  ...  0.46735  0.086454  0.24495 -0.621270  0.377990   \n",
       "1 -0.40580 -0.37523  ...  0.35108  0.312520  0.16230  0.022012  0.048974   \n",
       "\n",
       "        297       298       299       300  301  \n",
       "0  0.709060 -0.023002  0.003908 -0.035713    1  \n",
       "1 -0.027862 -0.446990 -0.249570  0.028510    1  \n",
       "\n",
       "[2 rows x 302 columns]"
      ]
     },
     "execution_count": 15,
     "metadata": {},
     "output_type": "execute_result"
    }
   ],
   "source": [
    "le = preprocessing.LabelEncoder()\n",
    "df[0]=le.fit_transform(df[0].astype(str))\n",
    "df.head(2)"
   ]
  },
  {
   "cell_type": "code",
   "execution_count": 16,
   "metadata": {},
   "outputs": [],
   "source": [
    "#le.inverse_transform(df[0])"
   ]
  },
  {
   "cell_type": "code",
   "execution_count": 17,
   "metadata": {},
   "outputs": [],
   "source": [
    "df=df.transpose()"
   ]
  },
  {
   "cell_type": "markdown",
   "metadata": {},
   "source": [
    "# Majority class based performance measure"
   ]
  },
  {
   "cell_type": "markdown",
   "metadata": {},
   "source": [
    "## Part 1: Train a K-means model with Eucledian distance"
   ]
  },
  {
   "cell_type": "code",
   "execution_count": 18,
   "metadata": {},
   "outputs": [],
   "source": [
    "initial_centroid,final_centroid,cluster=K_means(4,df,1)"
   ]
  },
  {
   "cell_type": "markdown",
   "metadata": {},
   "source": [
    "## Part 2: compute the precision, recall and F-score for K=1 to 10"
   ]
  },
  {
   "cell_type": "code",
   "execution_count": 19,
   "metadata": {},
   "outputs": [],
   "source": [
    "precision=[] \n",
    "recall=[] \n",
    "F_score=[]\n",
    "K=[]\n",
    "for k in range(1,11):\n",
    "    initial_centroid,final_centroid,cluster=K_means(k,df,1)\n",
    "    p,r,f=Measure(cluster)\n",
    "    precision.append(p)\n",
    "    recall.append(r)\n",
    "    F_score.append(f)\n",
    "    K.append(k)"
   ]
  },
  {
   "cell_type": "code",
   "execution_count": 20,
   "metadata": {},
   "outputs": [
    {
     "data": {
      "image/png": "[encoded data removed]",
      "text/plain": [
       "<Figure size 432x288 with 1 Axes>"
      ]
     },
     "metadata": {
      "needs_background": "light"
     },
     "output_type": "display_data"
    }
   ],
   "source": [
    "plt.plot(K,precision, label=\"Precision\")   \n",
    "plt.plot(K,recall, label=\"Recall\")\n",
    "plt.plot(K,F_score, label=\"F_score\")\n",
    "plt.xticks(K)  \n",
    "plt.xlabel('K') \n",
    "plt.ylabel('Measure') \n",
    "plt.title('K Vs Measure Graph') \n",
    "plt.legend() \n",
    "plt.show() "
   ]
  },
  {
   "cell_type": "markdown",
   "metadata": {},
   "source": [
    "## Part 3: After normalization compute the precision, recall and F-score"
   ]
  },
  {
   "cell_type": "code",
   "execution_count": 21,
   "metadata": {},
   "outputs": [],
   "source": [
    "temp=df.transpose()\n",
    "temp1=temp[301]\n",
    "df2=temp.drop([301], axis=1)\n",
    "df2= (df2 - df2.min())/abs(df2.max() - df2.min())\n",
    "df2[301]=temp1"
   ]
  },
  {
   "cell_type": "code",
   "execution_count": 22,
   "metadata": {},
   "outputs": [
    {
     "data": {
      "text/html": [
       "<div>\n",
       "<style scoped>\n",
       "    .dataframe tbody tr th:only-of-type {\n",
       "        vertical-align: middle;\n",
       "    }\n",
       "\n",
       "    .dataframe tbody tr th {\n",
       "        vertical-align: top;\n",
       "    }\n",
       "\n",
       "    .dataframe thead th {\n",
       "        text-align: right;\n",
       "    }\n",
       "</style>\n",
       "<table border=\"1\" class=\"dataframe\">\n",
       "  <thead>\n",
       "    <tr style=\"text-align: right;\">\n",
       "      <th></th>\n",
       "      <th>0</th>\n",
       "      <th>1</th>\n",
       "      <th>2</th>\n",
       "      <th>3</th>\n",
       "      <th>4</th>\n",
       "      <th>5</th>\n",
       "      <th>6</th>\n",
       "      <th>7</th>\n",
       "      <th>8</th>\n",
       "      <th>9</th>\n",
       "      <th>...</th>\n",
       "      <th>292</th>\n",
       "      <th>293</th>\n",
       "      <th>294</th>\n",
       "      <th>295</th>\n",
       "      <th>296</th>\n",
       "      <th>297</th>\n",
       "      <th>298</th>\n",
       "      <th>299</th>\n",
       "      <th>300</th>\n",
       "      <th>301</th>\n",
       "    </tr>\n",
       "  </thead>\n",
       "  <tbody>\n",
       "    <tr>\n",
       "      <th>0</th>\n",
       "      <td>0.311927</td>\n",
       "      <td>0.428078</td>\n",
       "      <td>0.44652</td>\n",
       "      <td>0.363367</td>\n",
       "      <td>0.638879</td>\n",
       "      <td>0.456141</td>\n",
       "      <td>0.688529</td>\n",
       "      <td>0.445063</td>\n",
       "      <td>0.128857</td>\n",
       "      <td>0.438771</td>\n",
       "      <td>...</td>\n",
       "      <td>0.697036</td>\n",
       "      <td>0.567474</td>\n",
       "      <td>0.559925</td>\n",
       "      <td>0.113278</td>\n",
       "      <td>0.754458</td>\n",
       "      <td>0.852225</td>\n",
       "      <td>0.552816</td>\n",
       "      <td>0.495485</td>\n",
       "      <td>0.455974</td>\n",
       "      <td>1.0</td>\n",
       "    </tr>\n",
       "    <tr>\n",
       "      <th>1</th>\n",
       "      <td>0.577982</td>\n",
       "      <td>0.643312</td>\n",
       "      <td>0.00000</td>\n",
       "      <td>0.380787</td>\n",
       "      <td>0.524303</td>\n",
       "      <td>0.659224</td>\n",
       "      <td>0.735469</td>\n",
       "      <td>0.341388</td>\n",
       "      <td>0.287459</td>\n",
       "      <td>0.326742</td>\n",
       "      <td>...</td>\n",
       "      <td>0.641100</td>\n",
       "      <td>0.670362</td>\n",
       "      <td>0.518768</td>\n",
       "      <td>0.464372</td>\n",
       "      <td>0.581125</td>\n",
       "      <td>0.448372</td>\n",
       "      <td>0.315557</td>\n",
       "      <td>0.347294</td>\n",
       "      <td>0.490156</td>\n",
       "      <td>1.0</td>\n",
       "    </tr>\n",
       "  </tbody>\n",
       "</table>\n",
       "<p>2 rows × 302 columns</p>\n",
       "</div>"
      ],
      "text/plain": [
       "        0         1        2         3         4         5         6    \\\n",
       "0  0.311927  0.428078  0.44652  0.363367  0.638879  0.456141  0.688529   \n",
       "1  0.577982  0.643312  0.00000  0.380787  0.524303  0.659224  0.735469   \n",
       "\n",
       "        7         8         9    ...       292       293       294       295  \\\n",
       "0  0.445063  0.128857  0.438771  ...  0.697036  0.567474  0.559925  0.113278   \n",
       "1  0.341388  0.287459  0.326742  ...  0.641100  0.670362  0.518768  0.464372   \n",
       "\n",
       "        296       297       298       299       300  301  \n",
       "0  0.754458  0.852225  0.552816  0.495485  0.455974  1.0  \n",
       "1  0.581125  0.448372  0.315557  0.347294  0.490156  1.0  \n",
       "\n",
       "[2 rows x 302 columns]"
      ]
     },
     "execution_count": 22,
     "metadata": {},
     "output_type": "execute_result"
    }
   ],
   "source": [
    "df2.head(2)"
   ]
  },
  {
   "cell_type": "code",
   "execution_count": 23,
   "metadata": {},
   "outputs": [],
   "source": [
    "precision=[] \n",
    "recall=[] \n",
    "F_score=[]\n",
    "K=[]\n",
    "for k in range(1,11):\n",
    "    initial_centroid,final_centroid,cluster=K_means(k,df2,1)\n",
    "    p,r,f=Measure(cluster)\n",
    "    precision.append(p)\n",
    "    recall.append(r)\n",
    "    F_score.append(f)\n",
    "    K.append(k)"
   ]
  },
  {
   "cell_type": "code",
   "execution_count": 24,
   "metadata": {},
   "outputs": [
    {
     "data": {
      "image/png": "[encoded data removed]",
      "text/plain": [
       "<Figure size 432x288 with 1 Axes>"
      ]
     },
     "metadata": {
      "needs_background": "light"
     },
     "output_type": "display_data"
    }
   ],
   "source": [
    "plt.plot(K,precision, label=\"Precision\")   \n",
    "plt.plot(K,recall, label=\"Recall\")\n",
    "plt.plot(K,F_score, label=\"F_score\")\n",
    "plt.xticks(K)  \n",
    "plt.xlabel('K') \n",
    "plt.ylabel('Measure') \n",
    "plt.title('K Vs Measure Graph') \n",
    "plt.legend() \n",
    "plt.show() "
   ]
  },
  {
   "cell_type": "markdown",
   "metadata": {},
   "source": [
    "## Part 4: use manhattan distance"
   ]
  },
  {
   "cell_type": "code",
   "execution_count": 25,
   "metadata": {},
   "outputs": [],
   "source": [
    "precision=[] \n",
    "recall=[] \n",
    "F_score=[]\n",
    "K=[]\n",
    "for k in range(1,11):\n",
    "    initial_centroid,final_centroid,cluster=K_means(k,df,2)\n",
    "    p,r,f=Measure(cluster)\n",
    "    precision.append(p)\n",
    "    recall.append(r)\n",
    "    F_score.append(f)\n",
    "    K.append(k)"
   ]
  },
  {
   "cell_type": "code",
   "execution_count": 26,
   "metadata": {},
   "outputs": [
    {
     "data": {
      "image/png": "[encoded data removed]",
      "text/plain": [
       "<Figure size 432x288 with 1 Axes>"
      ]
     },
     "metadata": {
      "needs_background": "light"
     },
     "output_type": "display_data"
    }
   ],
   "source": [
    "plt.plot(K,precision, label=\"Precision\")   \n",
    "plt.plot(K,recall, label=\"Recall\")\n",
    "plt.plot(K,F_score, label=\"F_score\")\n",
    "plt.xticks(K)  \n",
    "plt.xlabel('K') \n",
    "plt.ylabel('Measure') \n",
    "plt.title('K Vs Measure Graph') \n",
    "plt.legend() \n",
    "plt.show() "
   ]
  },
  {
   "cell_type": "markdown",
   "metadata": {},
   "source": [
    "## Part 5: use cosine similarity"
   ]
  },
  {
   "cell_type": "code",
   "execution_count": 27,
   "metadata": {},
   "outputs": [],
   "source": [
    "def k_means(k,df):\n",
    "    cluster=[]\n",
    "    dis=[]\n",
    "    centroid=[]\n",
    "    temp_cluster=[]\n",
    "    sample=random.sample(range(1,len(df.transpose())),k)\n",
    "    for i in range(len(sample)):\n",
    "        temp_cluster.append([])\n",
    "\n",
    "    old_cluster=temp_cluster.copy()\n",
    "    for s in sample:\n",
    "        centroid.append(list(df[s]))\n",
    "        \n",
    "    inc=centroid.copy()\n",
    "    it=0\n",
    "    while(old_cluster!=cluster and it<500):\n",
    "        old_cluster= cluster.copy()\n",
    "        cluster.clear()\n",
    "        for i in range(len(sample)):\n",
    "            cluster.append([centroid[i]])\n",
    "            \n",
    "        for i in range(len(df.transpose())):\n",
    "            for c in centroid:\n",
    "                d=Cosine_distance(list(df[i]),c)\n",
    "                dis.append(d)\n",
    "            cluster[dis.index(min(dis))].append(list(df[i]))\n",
    "            dis.clear()\n",
    "\n",
    "        new_centroid=[]\n",
    "        for cl in cluster:\n",
    "            temp=np.array(cl)\n",
    "            new_centroid.append(list(sum(temp)/len(temp)))\n",
    "        centroid=new_centroid.copy()\n",
    "        it+=1\n",
    "    \n",
    "    return inc,centroid,cluster"
   ]
  },
  {
   "cell_type": "code",
   "execution_count": null,
   "metadata": {},
   "outputs": [],
   "source": [
    "precision=[] \n",
    "recall=[] \n",
    "F_score=[]\n",
    "K=[]\n",
    "for k in range(1,11):\n",
    "    initial_centroid,final_centroid,cluster=k_means(k,df)\n",
    "    p,r,f=Measure(cluster)\n",
    "    precision.append(p)\n",
    "    recall.append(r)\n",
    "    F_score.append(f)\n",
    "    K.append(k)"
   ]
  },
  {
   "cell_type": "code",
   "execution_count": null,
   "metadata": {},
   "outputs": [],
   "source": [
    "plt.plot(K,precision, label=\"Precision\")   \n",
    "plt.plot(K,recall, label=\"Recall\")\n",
    "plt.plot(K,F_score, label=\"F_score\")\n",
    "plt.xticks(K)  \n",
    "plt.xlabel('K') \n",
    "plt.ylabel('Measure') \n",
    "plt.title('K Vs Measure Graph') \n",
    "plt.legend() \n",
    "plt.show() "
   ]
  },
  {
   "cell_type": "markdown",
   "metadata": {},
   "source": [
    "## Part 6: comparison"
   ]
  },
  {
   "cell_type": "markdown",
   "metadata": {},
   "source": [
    "Best k means value is 2"
   ]
  },
  {
   "cell_type": "markdown",
   "metadata": {},
   "source": [
    "Normalization is not useful here, peformance after normalization declines"
   ]
  },
  {
   "cell_type": "markdown",
   "metadata": {},
   "source": [
    "performance of measure with respect to F-score: cosine similarity> manhattan distance= eucledian distance"
   ]
  },
  {
   "cell_type": "markdown",
   "metadata": {},
   "source": [
    "# Purity based performance measure"
   ]
  },
  {
   "cell_type": "markdown",
   "metadata": {},
   "source": [
    "## Part 2"
   ]
  },
  {
   "cell_type": "code",
   "execution_count": null,
   "metadata": {},
   "outputs": [],
   "source": [
    "def fact(n): \n",
    "    res=1\n",
    "    for i in range(2, n+1): \n",
    "        res=res*i \n",
    "    return res \n",
    "\n",
    "def nCr(n,r): \n",
    "    if n>=2:\n",
    "        temp=(fact(n) / (fact(r)*fact(n - r)))\n",
    "    else:\n",
    "        temp=0\n",
    "    return temp"
   ]
  },
  {
   "cell_type": "code",
   "execution_count": null,
   "metadata": {},
   "outputs": [],
   "source": [
    "def measure(clusters):\n",
    "    tp_fp=0\n",
    "    tp=0\n",
    "    all_count=[]\n",
    "    for cl in cluster:\n",
    "        tp_fp+= nCr(len(cl),2)\n",
    "        df3=pd.DataFrame(cl)\n",
    "        counts=df3[301].value_counts()               \n",
    "        labels=[int(i) for i in list(counts.index)] \n",
    "        count=list(counts.values)\n",
    "        for c in count:\n",
    "            tp+= nCr(c,2)\n",
    "\n",
    "        for i in range(1,5):\n",
    "            if i not in labels:\n",
    "                labels.append(i)\n",
    "                count.append(0)\n",
    "\n",
    "        zipped_pairs = zip(labels,count)           \n",
    "        count = [j for i,j in sorted(zipped_pairs)]\n",
    "        label=sorted(labels)\n",
    "        all_count.append(count)\n",
    "    v1=n1\n",
    "    v2=n2\n",
    "    v3=n3\n",
    "    v4=n4\n",
    "    t1=t2=t3=t4=0\n",
    "    for count in all_count:\n",
    "        v1-=count[0]\n",
    "        v2-=count[1]\n",
    "        v3-=count[2]\n",
    "        v4-=count[3]\n",
    "        t1+= count[0]*v1\n",
    "        t2+= count[1]*v2\n",
    "        t3+= count[2]*v3\n",
    "        t4+= count[3]*v4\n",
    "    fn=t1+t2+t3+t4\n",
    "    precision= tp/(tp_fp)\n",
    "    recall= tp/(tp+fn)\n",
    "    F_score= (2*precision*recall)/(precision + recall)\n",
    "    return precision, recall, F_score"
   ]
  },
  {
   "cell_type": "code",
   "execution_count": null,
   "metadata": {},
   "outputs": [],
   "source": [
    "precision=[] \n",
    "recall=[] \n",
    "F_score=[]\n",
    "K=[]\n",
    "for k in range(1,11):\n",
    "    initial_centroid,final_centroid,cluster=K_means(k,df,1)\n",
    "    p,r,f=measure(cluster)\n",
    "    precision.append(p)\n",
    "    recall.append(r)\n",
    "    F_score.append(f)\n",
    "    K.append(k)"
   ]
  },
  {
   "cell_type": "code",
   "execution_count": null,
   "metadata": {},
   "outputs": [],
   "source": [
    "plt.plot(K,precision, label=\"Precision\")   \n",
    "plt.plot(K,recall, label=\"Recall\")\n",
    "plt.plot(K,F_score, label=\"F_score\")\n",
    "plt.xticks(K)  \n",
    "plt.xlabel('K') \n",
    "plt.ylabel('Measure') \n",
    "plt.title('K Vs Measure Graph') \n",
    "plt.legend() \n",
    "plt.show() "
   ]
  },
  {
   "cell_type": "markdown",
   "metadata": {},
   "source": [
    "## Part 3"
   ]
  },
  {
   "cell_type": "code",
   "execution_count": null,
   "metadata": {},
   "outputs": [],
   "source": [
    "precision=[] \n",
    "recall=[] \n",
    "F_score=[]\n",
    "K=[]\n",
    "for k in range(1,11):\n",
    "    initial_centroid,final_centroid,cluster=K_means(k,df2,1)\n",
    "    p,r,f=measure(cluster)\n",
    "    precision.append(p)\n",
    "    recall.append(r)\n",
    "    F_score.append(f)\n",
    "    K.append(k)"
   ]
  },
  {
   "cell_type": "code",
   "execution_count": null,
   "metadata": {},
   "outputs": [],
   "source": [
    "plt.plot(K,precision, label=\"Precision\")   \n",
    "plt.plot(K,recall, label=\"Recall\")\n",
    "plt.plot(K,F_score, label=\"F_score\")\n",
    "plt.xticks(K)  \n",
    "plt.xlabel('K') \n",
    "plt.ylabel('Measure') \n",
    "plt.title('K Vs Measure Graph') \n",
    "plt.legend() \n",
    "plt.show() "
   ]
  },
  {
   "cell_type": "markdown",
   "metadata": {},
   "source": [
    "## Part 4"
   ]
  },
  {
   "cell_type": "code",
   "execution_count": null,
   "metadata": {},
   "outputs": [],
   "source": [
    "precision=[] \n",
    "recall=[] \n",
    "F_score=[]\n",
    "K=[]\n",
    "for k in range(1,11):\n",
    "    initial_centroid,final_centroid,cluster=K_means(k,df,2)\n",
    "    p,r,f=measure(cluster)\n",
    "    precision.append(p)\n",
    "    recall.append(r)\n",
    "    F_score.append(f)\n",
    "    K.append(k)"
   ]
  },
  {
   "cell_type": "code",
   "execution_count": null,
   "metadata": {},
   "outputs": [],
   "source": [
    "plt.plot(K,precision, label=\"Precision\")   \n",
    "plt.plot(K,recall, label=\"Recall\")\n",
    "plt.plot(K,F_score, label=\"F_score\")\n",
    "plt.xticks(K)  \n",
    "plt.xlabel('K') \n",
    "plt.ylabel('Measure') \n",
    "plt.title('K Vs Measure Graph') \n",
    "plt.legend() \n",
    "plt.show() "
   ]
  },
  {
   "cell_type": "markdown",
   "metadata": {},
   "source": [
    "## Part 5"
   ]
  },
  {
   "cell_type": "code",
   "execution_count": null,
   "metadata": {},
   "outputs": [],
   "source": [
    "precision=[] \n",
    "recall=[] \n",
    "F_score=[]\n",
    "K=[]\n",
    "for k in range(1,11):\n",
    "    initial_centroid,final_centroid,cluster=k_means(k,df)\n",
    "    p,r,f=measure(cluster)\n",
    "    precision.append(p)\n",
    "    recall.append(r)\n",
    "    F_score.append(f)\n",
    "    K.append(k)"
   ]
  },
  {
   "cell_type": "code",
   "execution_count": null,
   "metadata": {},
   "outputs": [],
   "source": [
    "plt.plot(K,precision, label=\"Precision\")   \n",
    "plt.plot(K,recall, label=\"Recall\")\n",
    "plt.plot(K,F_score, label=\"F_score\")\n",
    "plt.xticks(K)  \n",
    "plt.xlabel('K') \n",
    "plt.ylabel('Measure') \n",
    "plt.title('K Vs Measure Graph') \n",
    "plt.legend() \n",
    "plt.show() "
   ]
  },
  {
   "cell_type": "markdown",
   "metadata": {},
   "source": [
    "## Part 6: comparison"
   ]
  },
  {
   "cell_type": "markdown",
   "metadata": {},
   "source": [
    "performance of measure with respect to F-score: cosine similarity> manhattan distance = eucledian distance"
   ]
  },
  {
   "cell_type": "markdown",
   "metadata": {},
   "source": [
    "Normalization is not useful here, peformance after normalization declines"
   ]
  },
  {
   "cell_type": "markdown",
   "metadata": {},
   "source": [
    "Best k means value for cosine similarity is 4"
   ]
  },
  {
   "cell_type": "markdown",
   "metadata": {},
   "source": [
    "Best k means value for manhattan distance & eucledian distance is 2 & 3"
   ]
  }
 ],
 "metadata": {
  "kernelspec": {
   "display_name": "Python 3",
   "language": "python",
   "name": "python3"
  },
  "language_info": {
   "codemirror_mode": {
    "name": "ipython",
    "version": 3
   },
   "file_extension": ".py",
   "mimetype": "text/x-python",
   "name": "python",
   "nbconvert_exporter": "python",
   "pygments_lexer": "ipython3",
   "version": "3.7.3"
  }
 },
 "nbformat": 4,
 "nbformat_minor": 4
}
