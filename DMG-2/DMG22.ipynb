{
 "cells": [
  {
   "cell_type": "code",
   "execution_count": 1,
   "metadata": {},
   "outputs": [
    {
     "name": "stdout",
     "output_type": "stream",
     "text": [
      "Last Column is the prediction(Ground Truth), attribute name is=  Class\n",
      "Possible Values for this attribute:  ['True', 'False']\n",
      "275\n",
      "Session Last Request Hour Of Day [\"'(-inf-6.5]'\", \"'(6.5-10.5]'\", \"'(10.5-14.5]'\", \"'(14.5-18.5]'\", \"'(18.5-inf)'\"]\n",
      "Class ['True', 'False']\n"
     ]
    }
   ],
   "source": [
    "import arff\n",
    "name='training_subsetD.arff'\n",
    "#name='testingD.arff'\n",
    "file=open(name)\n",
    "dataset = arff.load(file)\n",
    "attributes_list = dataset.get(\"attributes\",[])\n",
    "data=dataset.get(\"data\")\n",
    "\n",
    "attribute_vector=[]\n",
    "\n",
    "#attribute_info is in the form of (ATTRIBUTE NAME,[POSSIBLE Categories under this ATTRIBUTE])\n",
    "for idx, attribute_info in enumerate(attributes_list):\n",
    "#print(attribute_info)\n",
    "    attribute_vector+=[attribute_info[0]]\n",
    "\n",
    "num_attributes=len(attribute_vector)\n",
    "\n",
    "print(\"Last Column is the prediction(Ground Truth), attribute name is= \", attribute_vector[274])\n",
    "print(\"Possible Values for this attribute: \",attributes_list[274][1])\n",
    "print(num_attributes)\n",
    "\n",
    "#Exploring the 265th data attribute\n",
    "print(attributes_list[265][0],attributes_list[265][1])\n",
    "\n",
    "#Exploring the last attribute which is the ground truth class -- True/False\n",
    "print(attributes_list[274][0],attributes_list[274][1])"
   ]
  },
  {
   "cell_type": "code",
   "execution_count": 2,
   "metadata": {},
   "outputs": [],
   "source": [
    "name='testingD.arff'\n",
    "file=open(name)\n",
    "dataset = arff.load(file)\n",
    "data2=dataset.get(\"data\")"
   ]
  },
  {
   "cell_type": "code",
   "execution_count": 3,
   "metadata": {},
   "outputs": [],
   "source": [
    "import pandas as pd\n",
    "import numpy as np\n",
    "from sklearn.tree import DecisionTreeClassifier\n",
    "from sklearn.preprocessing import LabelEncoder\n",
    "from sklearn.neighbors import KNeighborsClassifier\n",
    "from sklearn.naive_bayes import GaussianNB\n",
    "from sklearn.decomposition import PCA\n",
    "from sklearn.preprocessing import StandardScaler\n",
    "from sklearn import metrics\n",
    "%matplotlib inline\n",
    "from matplotlib import pyplot as plt"
   ]
  },
  {
   "cell_type": "markdown",
   "metadata": {},
   "source": [
    "Converting arff file to csv file named training_set and testing_set"
   ]
  },
  {
   "cell_type": "code",
   "execution_count": 84,
   "metadata": {},
   "outputs": [],
   "source": [
    "df=pd.DataFrame(data)\n",
    "col=[int(x) for x in range(1,276)]\n",
    "col_type=attribute_vector\n",
    "df.columns=col\n",
    "df.to_csv('training_set.csv')"
   ]
  },
  {
   "cell_type": "code",
   "execution_count": 83,
   "metadata": {},
   "outputs": [],
   "source": [
    "df=pd.DataFrame(data2)\n",
    "col=[int(x) for x in range(1,276)]\n",
    "df.columns=col\n",
    "df.to_csv('testing_set.csv')"
   ]
  },
  {
   "cell_type": "markdown",
   "metadata": {},
   "source": [
    "converting all misssing values to NAN and reading the dataSet "
   ]
  },
  {
   "cell_type": "code",
   "execution_count": 4,
   "metadata": {},
   "outputs": [],
   "source": [
    "missing_values = [\"NAN\", \"None\", \"NULL\",\"?\",\"??\",\"nan\",\"\"]"
   ]
  },
  {
   "cell_type": "code",
   "execution_count": 10,
   "metadata": {},
   "outputs": [
    {
     "name": "stderr",
     "output_type": "stream",
     "text": [
      "C:\\ProgramData\\Anaconda3\\lib\\site-packages\\IPython\\core\\interactiveshell.py:2785: DtypeWarning: Columns (1,2,3,4,5,6,7,8,9,10,11,12,13,14,15,16,17,18,19,20,21,22,23,24,25,26,27,28,29,30,31,32,33,34,35,36,37,38,39,40,41,42,43,44,45,46,47,48,49,50,51,52,53,54,55,56,57,58,59,60,61,62,63,64,65,66,67,68,69,70,71,72,73,74,75,76,77,78,79,80,81,84,246,254) have mixed types. Specify dtype option on import or set low_memory=False.\n",
      "  interactivity=interactivity, compiler=compiler, result=result)\n",
      "C:\\ProgramData\\Anaconda3\\lib\\site-packages\\IPython\\core\\interactiveshell.py:2785: DtypeWarning: Columns (1,2,3,4,5,6,7,8,9,10,11,12,13,14,15,16,17,18,19,20,21,22,23,24,25,26,27,28,29,30,31,32,33,34,35,36,37,38,39,40,41,42,43,44,45,46,47,48,49,50,51,52,53,54,55,56,57,58,59,60,61,62,63,64,65,66,67,68,69,70,71,72,73,74,75,76,77,78,79,80,81,84) have mixed types. Specify dtype option on import or set low_memory=False.\n",
      "  interactivity=interactivity, compiler=compiler, result=result)\n"
     ]
    }
   ],
   "source": [
    "df=pd.read_csv(\"training_set.csv\",na_values = missing_values)\n",
    "df2=pd.read_csv(\"testing_set.csv\",na_values = missing_values)"
   ]
  },
  {
   "cell_type": "markdown",
   "metadata": {},
   "source": [
    "Drop those attribute which have more than 50% missing value or noisy data"
   ]
  },
  {
   "cell_type": "code",
   "execution_count": 11,
   "metadata": {},
   "outputs": [],
   "source": [
    "#df['1'].isna() is used to check na_values"
   ]
  },
  {
   "cell_type": "code",
   "execution_count": 12,
   "metadata": {},
   "outputs": [],
   "source": [
    "for i in range(1,276):\n",
    "    if df[str(i)].isna().sum()>=(len(df)//2):\n",
    "        df=df.drop([str(i)], axis=1)\n",
    "        df2=df2.drop([str(i)], axis=1)"
   ]
  },
  {
   "cell_type": "markdown",
   "metadata": {},
   "source": [
    "now we have left with 139 attributes only (first column is for sequencing purpose)"
   ]
  },
  {
   "cell_type": "code",
   "execution_count": 13,
   "metadata": {},
   "outputs": [
    {
     "data": {
      "text/plain": [
       "139"
      ]
     },
     "execution_count": 13,
     "metadata": {},
     "output_type": "execute_result"
    }
   ],
   "source": [
    "length=len(df.count())\n",
    "length-1"
   ]
  },
  {
   "cell_type": "code",
   "execution_count": 14,
   "metadata": {},
   "outputs": [
    {
     "data": {
      "text/html": [
       "<div>\n",
       "<style scoped>\n",
       "    .dataframe tbody tr th:only-of-type {\n",
       "        vertical-align: middle;\n",
       "    }\n",
       "\n",
       "    .dataframe tbody tr th {\n",
       "        vertical-align: top;\n",
       "    }\n",
       "\n",
       "    .dataframe thead th {\n",
       "        text-align: right;\n",
       "    }\n",
       "</style>\n",
       "<table border=\"1\" class=\"dataframe\">\n",
       "  <thead>\n",
       "    <tr style=\"text-align: right;\">\n",
       "      <th></th>\n",
       "      <th>Unnamed: 0</th>\n",
       "      <th>82</th>\n",
       "      <th>83</th>\n",
       "      <th>85</th>\n",
       "      <th>86</th>\n",
       "      <th>87</th>\n",
       "      <th>88</th>\n",
       "      <th>89</th>\n",
       "      <th>90</th>\n",
       "      <th>91</th>\n",
       "      <th>...</th>\n",
       "      <th>265</th>\n",
       "      <th>266</th>\n",
       "      <th>267</th>\n",
       "      <th>269</th>\n",
       "      <th>270</th>\n",
       "      <th>271</th>\n",
       "      <th>272</th>\n",
       "      <th>273</th>\n",
       "      <th>274</th>\n",
       "      <th>275</th>\n",
       "    </tr>\n",
       "  </thead>\n",
       "  <tbody>\n",
       "    <tr>\n",
       "      <th>0</th>\n",
       "      <td>0</td>\n",
       "      <td>'(-inf-187131.5]'</td>\n",
       "      <td>'(-inf-82045]'</td>\n",
       "      <td>'(-inf-1.5]'</td>\n",
       "      <td>'(179.5-inf)'</td>\n",
       "      <td>'(1351-1391]'</td>\n",
       "      <td>Sunday</td>\n",
       "      <td>'(-inf-6.5]'</td>\n",
       "      <td>'(2.5-3.5]'</td>\n",
       "      <td>'(-inf-0.5]'</td>\n",
       "      <td>...</td>\n",
       "      <td>/Content/templates/main</td>\n",
       "      <td>'(-inf-6.5]'</td>\n",
       "      <td>'(107.5-263.5]'</td>\n",
       "      <td>Internet Explorer</td>\n",
       "      <td>Internet Explorer</td>\n",
       "      <td>main/home_jhtml</td>\n",
       "      <td>Other</td>\n",
       "      <td>Other</td>\n",
       "      <td>(5 ___ 9]</td>\n",
       "      <td>False</td>\n",
       "    </tr>\n",
       "    <tr>\n",
       "      <th>1</th>\n",
       "      <td>1</td>\n",
       "      <td>'(-inf-187131.5]'</td>\n",
       "      <td>'(-inf-82045]'</td>\n",
       "      <td>'(1.5-2.5]'</td>\n",
       "      <td>'(179.5-inf)'</td>\n",
       "      <td>'(1351-1391]'</td>\n",
       "      <td>Sunday</td>\n",
       "      <td>'(10.5-14.5]'</td>\n",
       "      <td>'(6.5-inf)'</td>\n",
       "      <td>'(2.5-3.5]'</td>\n",
       "      <td>...</td>\n",
       "      <td>/Content/templates/products</td>\n",
       "      <td>'(10.5-14.5]'</td>\n",
       "      <td>'(263.5-inf)'</td>\n",
       "      <td>Internet Explorer</td>\n",
       "      <td>Internet Explorer</td>\n",
       "      <td>main/home_jhtml</td>\n",
       "      <td>products/productDetailLegwear_jhtml</td>\n",
       "      <td>Other</td>\n",
       "      <td>(9 ___ 12]</td>\n",
       "      <td>True</td>\n",
       "    </tr>\n",
       "  </tbody>\n",
       "</table>\n",
       "<p>2 rows × 140 columns</p>\n",
       "</div>"
      ],
      "text/plain": [
       "   Unnamed: 0                 82              83            85             86  \\\n",
       "0           0  '(-inf-187131.5]'  '(-inf-82045]'  '(-inf-1.5]'  '(179.5-inf)'   \n",
       "1           1  '(-inf-187131.5]'  '(-inf-82045]'   '(1.5-2.5]'  '(179.5-inf)'   \n",
       "\n",
       "              87      88             89           90            91  ...    \\\n",
       "0  '(1351-1391]'  Sunday   '(-inf-6.5]'  '(2.5-3.5]'  '(-inf-0.5]'  ...     \n",
       "1  '(1351-1391]'  Sunday  '(10.5-14.5]'  '(6.5-inf)'   '(2.5-3.5]'  ...     \n",
       "\n",
       "                           265            266              267  \\\n",
       "0      /Content/templates/main   '(-inf-6.5]'  '(107.5-263.5]'   \n",
       "1  /Content/templates/products  '(10.5-14.5]'    '(263.5-inf)'   \n",
       "\n",
       "                 269                270              271  \\\n",
       "0  Internet Explorer  Internet Explorer  main/home_jhtml   \n",
       "1  Internet Explorer  Internet Explorer  main/home_jhtml   \n",
       "\n",
       "                                   272    273         274    275  \n",
       "0                                Other  Other   (5 ___ 9]  False  \n",
       "1  products/productDetailLegwear_jhtml  Other  (9 ___ 12]   True  \n",
       "\n",
       "[2 rows x 140 columns]"
      ]
     },
     "execution_count": 14,
     "metadata": {},
     "output_type": "execute_result"
    }
   ],
   "source": [
    "df.head(2)"
   ]
  },
  {
   "cell_type": "markdown",
   "metadata": {},
   "source": [
    "Encoding all non_numeric/object into numeric value"
   ]
  },
  {
   "cell_type": "code",
   "execution_count": 15,
   "metadata": {},
   "outputs": [],
   "source": [
    "#df['1'].astype(str) is used to convert mixed type attribute_values to string type attribute"
   ]
  },
  {
   "cell_type": "code",
   "execution_count": 16,
   "metadata": {},
   "outputs": [],
   "source": [
    "for i in range(1,length):\n",
    "    df[df.columns[i]]=LabelEncoder().fit_transform(df[df.columns[i]].astype(str))\n",
    "    df2[df2.columns[i]]=LabelEncoder().fit_transform(df2[df2.columns[i]].astype(str))"
   ]
  },
  {
   "cell_type": "code",
   "execution_count": 17,
   "metadata": {},
   "outputs": [
    {
     "data": {
      "text/html": [
       "<div>\n",
       "<style scoped>\n",
       "    .dataframe tbody tr th:only-of-type {\n",
       "        vertical-align: middle;\n",
       "    }\n",
       "\n",
       "    .dataframe tbody tr th {\n",
       "        vertical-align: top;\n",
       "    }\n",
       "\n",
       "    .dataframe thead th {\n",
       "        text-align: right;\n",
       "    }\n",
       "</style>\n",
       "<table border=\"1\" class=\"dataframe\">\n",
       "  <thead>\n",
       "    <tr style=\"text-align: right;\">\n",
       "      <th></th>\n",
       "      <th>Unnamed: 0</th>\n",
       "      <th>82</th>\n",
       "      <th>83</th>\n",
       "      <th>85</th>\n",
       "      <th>86</th>\n",
       "      <th>87</th>\n",
       "      <th>88</th>\n",
       "      <th>89</th>\n",
       "      <th>90</th>\n",
       "      <th>91</th>\n",
       "      <th>...</th>\n",
       "      <th>265</th>\n",
       "      <th>266</th>\n",
       "      <th>267</th>\n",
       "      <th>269</th>\n",
       "      <th>270</th>\n",
       "      <th>271</th>\n",
       "      <th>272</th>\n",
       "      <th>273</th>\n",
       "      <th>274</th>\n",
       "      <th>275</th>\n",
       "    </tr>\n",
       "  </thead>\n",
       "  <tbody>\n",
       "    <tr>\n",
       "      <th>0</th>\n",
       "      <td>0</td>\n",
       "      <td>0</td>\n",
       "      <td>0</td>\n",
       "      <td>0</td>\n",
       "      <td>1</td>\n",
       "      <td>2</td>\n",
       "      <td>3</td>\n",
       "      <td>0</td>\n",
       "      <td>2</td>\n",
       "      <td>0</td>\n",
       "      <td>...</td>\n",
       "      <td>5</td>\n",
       "      <td>0</td>\n",
       "      <td>2</td>\n",
       "      <td>6</td>\n",
       "      <td>1</td>\n",
       "      <td>3</td>\n",
       "      <td>0</td>\n",
       "      <td>0</td>\n",
       "      <td>4</td>\n",
       "      <td>0</td>\n",
       "    </tr>\n",
       "    <tr>\n",
       "      <th>1</th>\n",
       "      <td>1</td>\n",
       "      <td>0</td>\n",
       "      <td>0</td>\n",
       "      <td>1</td>\n",
       "      <td>1</td>\n",
       "      <td>2</td>\n",
       "      <td>3</td>\n",
       "      <td>1</td>\n",
       "      <td>4</td>\n",
       "      <td>3</td>\n",
       "      <td>...</td>\n",
       "      <td>6</td>\n",
       "      <td>1</td>\n",
       "      <td>3</td>\n",
       "      <td>6</td>\n",
       "      <td>1</td>\n",
       "      <td>3</td>\n",
       "      <td>5</td>\n",
       "      <td>0</td>\n",
       "      <td>5</td>\n",
       "      <td>1</td>\n",
       "    </tr>\n",
       "  </tbody>\n",
       "</table>\n",
       "<p>2 rows × 140 columns</p>\n",
       "</div>"
      ],
      "text/plain": [
       "   Unnamed: 0  82  83  85  86  87  88  89  90  91 ...   265  266  267  269  \\\n",
       "0           0   0   0   0   1   2   3   0   2   0 ...     5    0    2    6   \n",
       "1           1   0   0   1   1   2   3   1   4   3 ...     6    1    3    6   \n",
       "\n",
       "   270  271  272  273  274  275  \n",
       "0    1    3    0    0    4    0  \n",
       "1    1    3    5    0    5    1  \n",
       "\n",
       "[2 rows x 140 columns]"
      ]
     },
     "execution_count": 17,
     "metadata": {},
     "output_type": "execute_result"
    }
   ],
   "source": [
    "#training data \n",
    "df.head(2)"
   ]
  },
  {
   "cell_type": "code",
   "execution_count": 18,
   "metadata": {},
   "outputs": [
    {
     "data": {
      "text/html": [
       "<div>\n",
       "<style scoped>\n",
       "    .dataframe tbody tr th:only-of-type {\n",
       "        vertical-align: middle;\n",
       "    }\n",
       "\n",
       "    .dataframe tbody tr th {\n",
       "        vertical-align: top;\n",
       "    }\n",
       "\n",
       "    .dataframe thead th {\n",
       "        text-align: right;\n",
       "    }\n",
       "</style>\n",
       "<table border=\"1\" class=\"dataframe\">\n",
       "  <thead>\n",
       "    <tr style=\"text-align: right;\">\n",
       "      <th></th>\n",
       "      <th>Unnamed: 0</th>\n",
       "      <th>82</th>\n",
       "      <th>83</th>\n",
       "      <th>85</th>\n",
       "      <th>86</th>\n",
       "      <th>87</th>\n",
       "      <th>88</th>\n",
       "      <th>89</th>\n",
       "      <th>90</th>\n",
       "      <th>91</th>\n",
       "      <th>...</th>\n",
       "      <th>265</th>\n",
       "      <th>266</th>\n",
       "      <th>267</th>\n",
       "      <th>269</th>\n",
       "      <th>270</th>\n",
       "      <th>271</th>\n",
       "      <th>272</th>\n",
       "      <th>273</th>\n",
       "      <th>274</th>\n",
       "      <th>275</th>\n",
       "    </tr>\n",
       "  </thead>\n",
       "  <tbody>\n",
       "    <tr>\n",
       "      <th>0</th>\n",
       "      <td>0</td>\n",
       "      <td>4</td>\n",
       "      <td>0</td>\n",
       "      <td>0</td>\n",
       "      <td>1</td>\n",
       "      <td>3</td>\n",
       "      <td>0</td>\n",
       "      <td>3</td>\n",
       "      <td>1</td>\n",
       "      <td>1</td>\n",
       "      <td>...</td>\n",
       "      <td>5</td>\n",
       "      <td>3</td>\n",
       "      <td>1</td>\n",
       "      <td>0</td>\n",
       "      <td>0</td>\n",
       "      <td>2</td>\n",
       "      <td>5</td>\n",
       "      <td>0</td>\n",
       "      <td>3</td>\n",
       "      <td>1</td>\n",
       "    </tr>\n",
       "    <tr>\n",
       "      <th>1</th>\n",
       "      <td>1</td>\n",
       "      <td>4</td>\n",
       "      <td>0</td>\n",
       "      <td>0</td>\n",
       "      <td>4</td>\n",
       "      <td>1</td>\n",
       "      <td>0</td>\n",
       "      <td>3</td>\n",
       "      <td>4</td>\n",
       "      <td>0</td>\n",
       "      <td>...</td>\n",
       "      <td>4</td>\n",
       "      <td>0</td>\n",
       "      <td>4</td>\n",
       "      <td>4</td>\n",
       "      <td>1</td>\n",
       "      <td>3</td>\n",
       "      <td>4</td>\n",
       "      <td>3</td>\n",
       "      <td>3</td>\n",
       "      <td>0</td>\n",
       "    </tr>\n",
       "  </tbody>\n",
       "</table>\n",
       "<p>2 rows × 140 columns</p>\n",
       "</div>"
      ],
      "text/plain": [
       "   Unnamed: 0  82  83  85  86  87  88  89  90  91 ...   265  266  267  269  \\\n",
       "0           0   4   0   0   1   3   0   3   1   1 ...     5    3    1    0   \n",
       "1           1   4   0   0   4   1   0   3   4   0 ...     4    0    4    4   \n",
       "\n",
       "   270  271  272  273  274  275  \n",
       "0    0    2    5    0    3    1  \n",
       "1    1    3    4    3    3    0  \n",
       "\n",
       "[2 rows x 140 columns]"
      ]
     },
     "execution_count": 18,
     "metadata": {},
     "output_type": "execute_result"
    }
   ],
   "source": [
    "#testing data\n",
    "df2.head(2)"
   ]
  },
  {
   "cell_type": "code",
   "execution_count": 19,
   "metadata": {},
   "outputs": [],
   "source": [
    "#x_train, x_test, y_train, y_test = train_test_split(df.drop(['275'],axis=1),df['275'],test_size = 0.2,random_state = 100)"
   ]
  },
  {
   "cell_type": "markdown",
   "metadata": {},
   "source": [
    "Decision Tree"
   ]
  },
  {
   "cell_type": "code",
   "execution_count": 20,
   "metadata": {},
   "outputs": [],
   "source": [
    "x,y=df.drop(['275'],axis=1),df['275'] "
   ]
  },
  {
   "cell_type": "code",
   "execution_count": 21,
   "metadata": {},
   "outputs": [],
   "source": [
    "pca=PCA(n_components=2)\n",
    "x=pca.fit_transform(x)"
   ]
  },
  {
   "cell_type": "code",
   "execution_count": 22,
   "metadata": {},
   "outputs": [
    {
     "name": "stdout",
     "output_type": "stream",
     "text": [
      "Accuracy with Decision Tree: 80.89\n"
     ]
    }
   ],
   "source": [
    "dt=DecisionTreeClassifier(max_depth=7)\n",
    "dt.fit(x,y)\n",
    "y1_out=list(dt.predict(x))\n",
    "s=dt.score(x,y)*100\n",
    "print(f\"Accuracy with Decision Tree: {s}\")"
   ]
  },
  {
   "cell_type": "markdown",
   "metadata": {},
   "source": [
    "K-NEAREST NEIGHBOR"
   ]
  },
  {
   "cell_type": "code",
   "execution_count": 23,
   "metadata": {},
   "outputs": [],
   "source": [
    "knn=KNeighborsClassifier(n_neighbors=2)\n",
    "knn.fit(x,y)\n",
    "y2_out=list(knn.predict(x))"
   ]
  },
  {
   "cell_type": "code",
   "execution_count": 24,
   "metadata": {},
   "outputs": [
    {
     "name": "stdout",
     "output_type": "stream",
     "text": [
      "Accuracy with K-NN: 85.135\n"
     ]
    }
   ],
   "source": [
    "precision=metrics.accuracy_score(y2_out,y)*100\n",
    "print(f\"Accuracy with K-NN: {precision}\")"
   ]
  },
  {
   "cell_type": "markdown",
   "metadata": {},
   "source": [
    "Naive Bayes"
   ]
  },
  {
   "cell_type": "code",
   "execution_count": 25,
   "metadata": {},
   "outputs": [],
   "source": [
    "nb=GaussianNB()\n",
    "nb.fit(x,y)\n",
    "y3_out=list(nb.predict(x))"
   ]
  },
  {
   "cell_type": "code",
   "execution_count": 26,
   "metadata": {},
   "outputs": [
    {
     "name": "stdout",
     "output_type": "stream",
     "text": [
      "Accuracy with Naive Bayes: 80.4825\n"
     ]
    }
   ],
   "source": [
    "precision=metrics.accuracy_score(y3_out,y)*100\n",
    "print(f\"Accuracy with Naive Bayes: {precision}\")"
   ]
  },
  {
   "cell_type": "code",
   "execution_count": 27,
   "metadata": {},
   "outputs": [],
   "source": [
    "result=pd.DataFrame([y1_out,y2_out,y3_out])\n",
    "result=result.transpose()\n",
    "result.columns=['y1','y2','y3']"
   ]
  },
  {
   "cell_type": "code",
   "execution_count": null,
   "metadata": {},
   "outputs": [],
   "source": [
    "neigh = KNeighborsClassifier(n_neighbors=3)\n",
    "neigh.fit(x,y)\n",
    "h = 0.02\n",
    "\n",
    "x_min, x_max = x[:,0].min() - 10*h, x[:,0].max() + 10*h\n",
    "y_min, y_max = x[:,1].min() - 10*h, x[:,1].max() + 10*h\n",
    "xx, yy = np.meshgrid(np.arange(x_min, x_max, h),np.arange(y_min, y_max, h))\n",
    "Z = neigh.predict(np.c_[xx.ravel(), yy.ravel()])\n",
    "Z = Z.reshape(xx.shape)\n",
    "\n",
    "plt.figure(figsize=(10,10))\n",
    "plt.contourf(xx, yy, Z, cmap='BrBG', alpha=0.75)\n",
    "plt.contour(xx, yy, Z, colors='green', linewidths=0.7)\n",
    "plt.scatter(x[:,0], x[:,1], c=y, alpha=1, s=15);\n",
    "plt.show()\n",
    "\n",
    "\n",
    "dt=DecisionTreeClassifier(max_depth=7)\n",
    "dt.fit(x,y)\n",
    "h = 0.02\n",
    "\n",
    "x_min, x_max = x[:,0].min() - 10*h, x[:,0].max() + 10*h\n",
    "y_min, y_max = x[:,1].min() - 10*h, x[:,1].max() + 10*h\n",
    "xx, yy = np.meshgrid(np.arange(x_min, x_max, h),np.arange(y_min, y_max, h))\n",
    "Z = dt.predict(np.c_[xx.ravel(), yy.ravel()])\n",
    "Z = Z.reshape(xx.shape)\n",
    "\n",
    "plt.figure(figsize=(10,10))\n",
    "plt.contourf(xx, yy, Z, cmap='BrBG', alpha=0.75)\n",
    "plt.contour(xx, yy, Z, colors='green', linewidths=0.7)\n",
    "plt.scatter(x[:,0], x[:,1], c=y, alpha=1, s=15);\n",
    "plt.show()\n",
    "\n",
    "nb=GaussianNB()\n",
    "nb.fit(x,y)\n",
    "h = 0.02\n",
    "\n",
    "x_min, x_max = x[:,0].min() - 10*h, x[:,0].max() + 10*h\n",
    "y_min, y_max = x[:,1].min() - 10*h, x[:,1].max() + 10*h\n",
    "xx, yy = np.meshgrid(np.arange(x_min, x_max, h),np.arange(y_min, y_max, h))\n",
    "Z = nb.predict(np.c_[xx.ravel(), yy.ravel()])\n",
    "Z = Z.reshape(xx.shape)\n",
    "\n",
    "plt.figure(figsize=(10,10))\n",
    "plt.contourf(xx, yy, Z, cmap='BrBG', alpha=0.75)\n",
    "plt.contour(xx, yy, Z, colors='green', linewidths=0.7)\n",
    "plt.scatter(x[:,0], x[:,1], c=y, alpha=1, s=15);\n",
    "plt.show()"
   ]
  },
  {
   "cell_type": "code",
   "execution_count": null,
   "metadata": {},
   "outputs": [],
   "source": []
  },
  {
   "cell_type": "code",
   "execution_count": null,
   "metadata": {},
   "outputs": [],
   "source": []
  },
  {
   "cell_type": "code",
   "execution_count": null,
   "metadata": {},
   "outputs": [],
   "source": []
  }
 ],
 "metadata": {
  "kernelspec": {
   "display_name": "Python 3",
   "language": "python",
   "name": "python3"
  },
  "language_info": {
   "codemirror_mode": {
    "name": "ipython",
    "version": 3
   },
   "file_extension": ".py",
   "mimetype": "text/x-python",
   "name": "python",
   "nbconvert_exporter": "python",
   "pygments_lexer": "ipython3",
   "version": "3.7.3"
  }
 },
 "nbformat": 4,
 "nbformat_minor": 4
}
